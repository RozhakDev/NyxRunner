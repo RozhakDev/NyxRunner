{
  "nbformat": 4,
  "nbformat_minor": 0,
  "metadata": {
    "colab": {
      "provenance": []
    },
    "kernelspec": {
      "name": "python3",
      "display_name": "Python 3"
    },
    "language_info": {
      "name": "python"
    }
  },
  "cells": [
    {
      "cell_type": "markdown",
      "source": [
        "# **NyxRunner: Deployment Otomatis Proyek GitHub ke Google Colab**\n",
        "\n",
        "Notebook ini membantu menjalankan proyek GitHub secara otomatis di Google Colab dengan langkah-langkah terstruktur.\n",
        "Setiap bagian memiliki heading, deskripsi, dan log yang jelas agar mudah dipahami, bahkan oleh pemula."
      ],
      "metadata": {
        "id": "RmemQZnILB7s"
      }
    },
    {
      "cell_type": "code",
      "source": [
        "import time\n",
        "import os"
      ],
      "metadata": {
        "id": "hrMMTOl8OzO7"
      },
      "execution_count": 1,
      "outputs": []
    },
    {
      "cell_type": "markdown",
      "source": [
        "## **1. Clone Repository GitHub**\n",
        "\n",
        "Bagian ini melakukan cloning repository dari GitHub ke lingkungan Google Colab. Pastikan URL repository sudah benar."
      ],
      "metadata": {
        "id": "ZvS6xMkULQGa"
      }
    },
    {
      "cell_type": "code",
      "source": [
        "print(\"[INFO] Memulai proses deployment NyxRunner...\")\n",
        "print(\"[DEBUG] Working directory saat ini: \" + os.getcwd() + \"\\n\")\n",
        "\n",
        "start_time = time.time()\n",
        "%cd /content/\n",
        "print(\"[DEBUG] Pindah ke direktory: /content/\")"
      ],
      "metadata": {
        "colab": {
          "base_uri": "https://localhost:8080/"
        },
        "id": "RRMGklDKOmDo",
        "outputId": "d1dffb27-3682-4077-cafe-b10305acc5be"
      },
      "execution_count": 2,
      "outputs": [
        {
          "output_type": "stream",
          "name": "stdout",
          "text": [
            "[INFO] Memulai proses deployment NyxRunner...\n",
            "[DEBUG] Working directory saat ini: /content\n",
            "\n",
            "/content\n",
            "[DEBUG] Pindah ke direktory: /content/\n"
          ]
        }
      ]
    },
    {
      "cell_type": "code",
      "source": [
        "result = !git clone https://github.com/RozhakDev/RecurCrawl.git 2>&1\n",
        "if \"already exists\" in str(result):\n",
        "    print(\"[WARNING] Repository sudah ada. Menggunakan versi yang existing.\")\n",
        "    print(\"[DEBUG] Output git clone: \" + str(result))\n",
        "elif \"fatal:\" in str(result):\n",
        "    print(\"[ERROR] Gagal melakukan clone repository!\")\n",
        "    print(\"[DEBUG] Error details: \" + str(result))\n",
        "else:\n",
        "    print(\"[INFO] Repository berhasil di-clone\")\n",
        "    print(\"[DEBUG] Output git clone: \" + str(result[-1]))"
      ],
      "metadata": {
        "colab": {
          "base_uri": "https://localhost:8080/"
        },
        "id": "ctFVFWisPQ-m",
        "outputId": "8fcc798a-cc1a-4724-dba8-5f742da23c03"
      },
      "execution_count": 3,
      "outputs": [
        {
          "output_type": "stream",
          "name": "stdout",
          "text": [
            "[INFO] Repository berhasil di-clone\n",
            "[DEBUG] Output git clone: Resolving deltas: 100% (2/2), done.\n"
          ]
        }
      ]
    },
    {
      "cell_type": "code",
      "source": [
        "%cd /content/RecurCrawl\n",
        "print(\"[DEBUG] Pindah ke directory project: /content/...\")\n",
        "print(\"[INFO] Proses clone selesai. Waktu eksekusi: {:.2f} detik\".format(time.time() - start_time))"
      ],
      "metadata": {
        "colab": {
          "base_uri": "https://localhost:8080/"
        },
        "id": "Xao6zDg1PzVM",
        "outputId": "0b36bf11-354c-4188-aac9-6d38dedce17e"
      },
      "execution_count": 4,
      "outputs": [
        {
          "output_type": "stream",
          "name": "stdout",
          "text": [
            "/content/RecurCrawl\n",
            "[DEBUG] Pindah ke directory project: /content/...\n",
            "[INFO] Proses clone selesai. Waktu eksekusi: 1.06 detik\n"
          ]
        }
      ]
    },
    {
      "cell_type": "markdown",
      "source": [
        "## **2. Install Dependencies**\n",
        "\n",
        "Menginstal semua dependensi yang dibutuhkan proyek dari file `requirements.txt`, dan juga pyngrok untuk membuat tunnel."
      ],
      "metadata": {
        "id": "sG8aIIIcMJ_3"
      }
    },
    {
      "cell_type": "code",
      "source": [
        "print(\"[INFO] Melakukan instalasi dependensi project...\")\n",
        "\n",
        "if os.path.exists(\"requirements.txt\"):\n",
        "    print(\"[INFO] File requirements.txt ditemukan. Memulai instalasi...\")\n",
        "    start_time = time.time()\n",
        "\n",
        "    result = !pip install -r requirements.txt 2>&1\n",
        "    if \"Successfully installed\" in str(result) or \"Requirement already satisfied\" in str(result):\n",
        "        print(\"[INFO] Dependensi utama berhasil diinstal\")\n",
        "        print(\"[DEBUG] Jumlah package yang diperiksa: {}\".format(len([line for line in result if \"already satisfied\" in line or \"Successfully\" in line])))\n",
        "    else:\n",
        "        print(\"[WARNING] Mungkin ada masalah dengan instalasi dependensi\")\n",
        "        print(\"[DEBUG] Output pip install: \" + str(result[-3:]))\n",
        "\n",
        "    print(\"[INFO] Waktu instalasi requirements: {:.2f} detik\".format(time.time() - start_time))\n",
        "else:\n",
        "    print(\"[WARNING] File requirements.txt tidak ditemukan!\")"
      ],
      "metadata": {
        "colab": {
          "base_uri": "https://localhost:8080/"
        },
        "id": "WQ6VscSoMAQ-",
        "outputId": "0d196d37-a204-4d03-bea5-8c50eeacbeae"
      },
      "execution_count": 5,
      "outputs": [
        {
          "output_type": "stream",
          "name": "stdout",
          "text": [
            "[INFO] Melakukan instalasi dependensi project...\n",
            "[INFO] File requirements.txt ditemukan. Memulai instalasi...\n",
            "[INFO] Dependensi utama berhasil diinstal\n",
            "[DEBUG] Jumlah package yang diperiksa: 25\n",
            "[INFO] Waktu instalasi requirements: 11.85 detik\n"
          ]
        }
      ]
    },
    {
      "cell_type": "code",
      "source": [
        "print(\"[INFO] Menginstal pyngrok untuk tunneling...\")\n",
        "start_time = time.time()\n",
        "result = !pip install pyngrok 2>&1\n",
        "if \"Successfully installed\" in str(result):\n",
        "    print(\"[INFO] pyngrok berhasil diinstal\")\n",
        "else:\n",
        "    print(\"[DEBUG] Status pyngrok: \" + str(result[-1]))\n",
        "print(\"[INFO] Waktu instalasi pyngrok: {:.2f} detik\".format(time.time() - start_time))"
      ],
      "metadata": {
        "colab": {
          "base_uri": "https://localhost:8080/"
        },
        "id": "7BZLgXZJQkei",
        "outputId": "b494be58-d735-444d-c156-78b790444446"
      },
      "execution_count": 6,
      "outputs": [
        {
          "output_type": "stream",
          "name": "stdout",
          "text": [
            "[INFO] Menginstal pyngrok untuk tunneling...\n",
            "[INFO] pyngrok berhasil diinstal\n",
            "[INFO] Waktu instalasi pyngrok: 9.15 detik\n"
          ]
        }
      ]
    },
    {
      "cell_type": "markdown",
      "source": [
        "## **3. Konfigurasi Ngrok**\n",
        "\n",
        "Menambahkan authtoken ngrok dan memastikan tidak ada proses ngrok/flask yang berjalan sebelumnya."
      ],
      "metadata": {
        "id": "YwAzGaGWQ2iB"
      }
    },
    {
      "cell_type": "code",
      "source": [
        "print(\"[DEBUG] Memeriksa proses ngrok yang sedang berjalan...\")\n",
        "ngrok_processes = !ps aux | grep ngrok | grep -v grep || true\n",
        "if ngrok_processes:\n",
        "    print(\"[INFO] Menghentikan proses ngrok yang existing...\")\n",
        "    !pkill -f ngrok\n",
        "    print(\"[DEBUG] Proses ngrok yang dihentikan: {}\".format(len(ngrok_processes)))\n",
        "\n",
        "print(\"[DEBUG] Memeriksa proses Flask yang sedang berjalan...\")\n",
        "flask_processes = !ps aux | grep flask | grep -v grep || true\n",
        "if flask_processes:\n",
        "    print(\"[INFO] Menghentikan proses Flask yang existing...\")\n",
        "    !pkill -f flask\n",
        "    print(\"[DEBUG] Proses Flask yang dihentikan: {}\".format(len(flask_processes)))"
      ],
      "metadata": {
        "colab": {
          "base_uri": "https://localhost:8080/"
        },
        "id": "9XG0ZSJUQ56u",
        "outputId": "aa388fb5-302f-4bf8-bc7a-0a1b5f66b429"
      },
      "execution_count": 7,
      "outputs": [
        {
          "output_type": "stream",
          "name": "stdout",
          "text": [
            "[DEBUG] Memeriksa proses ngrok yang sedang berjalan...\n",
            "[DEBUG] Memeriksa proses Flask yang sedang berjalan...\n"
          ]
        }
      ]
    },
    {
      "cell_type": "code",
      "source": [
        "print(\"[INFO] Menambahkan authtoken ngrok...\")\n",
        "result = !ngrok config add-authtoken  2>&1\n",
        "if \"saved to\" in str(result) or \"already installed\" in str(result):\n",
        "    print(\"[INFO] Authtoken ngrok berhasil dikonfigurasi\")\n",
        "else:\n",
        "    print(\"[WARNING] Mungkin ada issue dengan konfigurasi authtoken\")\n",
        "    print(\"[DEBUG] Output ngrok config: \" + str(result))\n",
        "\n",
        "print(\"[INFO] Konfigurasi ngrok selesai\")"
      ],
      "metadata": {
        "colab": {
          "base_uri": "https://localhost:8080/"
        },
        "id": "8EUHCHB9Q_5n",
        "outputId": "81c12f22-879a-4040-ca53-862212056f89"
      },
      "execution_count": 8,
      "outputs": [
        {
          "output_type": "stream",
          "name": "stdout",
          "text": [
            "[INFO] Menambahkan authtoken ngrok...\n",
            "[INFO] Authtoken ngrok berhasil dikonfigurasi\n",
            "[INFO] Konfigurasi ngrok selesai\n"
          ]
        }
      ]
    },
    {
      "cell_type": "markdown",
      "source": [
        "## **4. Jalankan Server Flask**\n",
        "\n",
        "Membuka tunnel menggunakan pyngrok di port 5000 dan menampilkan URL publik, kemudian menjalankan server Flask."
      ],
      "metadata": {
        "id": "ymxREBX1RtCg"
      }
    },
    {
      "cell_type": "code",
      "source": [
        "print(\"[INFO] Memulai persiapan server Flask...\")\n",
        "\n",
        "if not os.path.exists(\"run.py\"):\n",
        "    print(\"[ERROR] File run.py tidak ditemukan!\")\n",
        "    print(\"[DEBUG] File yang ada di directory: \" + str(os.listdir('.')))\n",
        "else:\n",
        "    print(\"[INFO] File run.py ditemukan. Membuka tunnel...\")\n",
        "\n",
        "    from pyngrok import ngrok\n",
        "    print(\"[INFO] Membuka tunnel ngrok di port 5000...\")\n",
        "\n",
        "    try:\n",
        "        public_url = ngrok.connect(5000)\n",
        "        print(\"[SUCCESS] Tunnel berhasil dibuat!\")\n",
        "        print(\"[INFO] Public URL: {}\".format(public_url))\n",
        "        print(\"[DEBUG] Tunnel info: {}\".format(public_url))\n",
        "\n",
        "        print(\"[INFO] Menjalankan server Flask...\")\n",
        "        print(\"[DEBUG] Memulai proses: python run.py\")\n",
        "        print(\"-\" * 60)\n",
        "        print(\"[SYSTEM] Server sedang berjalan. Tekan Ctrl+C untuk menghentikan.\")\n",
        "        print(\"-\" * 60)\n",
        "\n",
        "        !python run.py\n",
        "    except Exception as e:\n",
        "        print(\"[ERROR] Gagal membuat tunnel: {}\".format(str(e)))\n",
        "        print(\"[DEBUG] Exception details: {}\".format(type(e).__name__))\n",
        "\n",
        "print(\"[INFO] Proses deployment selesai. Terima kasih!\")"
      ],
      "metadata": {
        "colab": {
          "base_uri": "https://localhost:8080/"
        },
        "id": "IUh7nBILRpUZ",
        "outputId": "a6dfe9b4-02cd-4e9e-a6ad-ff7cdf12146f"
      },
      "execution_count": 9,
      "outputs": [
        {
          "output_type": "stream",
          "name": "stdout",
          "text": [
            "[INFO] Memulai persiapan server Flask...\n",
            "[INFO] File run.py ditemukan. Membuka tunnel...\n",
            "[INFO] Membuka tunnel ngrok di port 5000...\n",
            "[SUCCESS] Tunnel berhasil dibuat!\n",
            "[INFO] Public URL: NgrokTunnel: \"https://b4c84d0250bf.ngrok-free.app\" -> \"http://localhost:5000\"\n",
            "[DEBUG] Tunnel info: NgrokTunnel: \"https://b4c84d0250bf.ngrok-free.app\" -> \"http://localhost:5000\"\n",
            "[INFO] Menjalankan server Flask...\n",
            "[DEBUG] Memulai proses: python run.py\n",
            "------------------------------------------------------------\n",
            "[SYSTEM] Server sedang berjalan. Tekan Ctrl+C untuk menghentikan.\n",
            "------------------------------------------------------------\n",
            " * Serving Flask app 'app'\n",
            " * Debug mode: on\n",
            "\u001b[31m\u001b[1mWARNING: This is a development server. Do not use it in a production deployment. Use a production WSGI server instead.\u001b[0m\n",
            " * Running on http://127.0.0.1:5000\n",
            "\u001b[33mPress CTRL+C to quit\u001b[0m\n",
            " * Restarting with watchdog (inotify)\n",
            " * Debugger is active!\n",
            " * Debugger PIN: 245-171-737\n",
            "127.0.0.1 - - [21/Sep/2025 08:05:01] \"GET / HTTP/1.1\" 200 -\n",
            "127.0.0.1 - - [21/Sep/2025 08:05:03] \"GET /static/favicon.ico HTTP/1.1\" 200 -\n",
            "[INFO] Proses deployment selesai. Terima kasih!\n"
          ]
        }
      ]
    }
  ]
}